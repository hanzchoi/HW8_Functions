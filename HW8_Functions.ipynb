{
 "cells": [
  {
   "cell_type": "markdown",
   "id": "67f17cb4",
   "metadata": {},
   "source": [
    "1. Create a function that takes in two numbers and returns the average of those numbers"
   ]
  },
  {
   "cell_type": "code",
   "execution_count": 1,
   "id": "89a37a28",
   "metadata": {},
   "outputs": [
    {
     "name": "stdout",
     "output_type": "stream",
     "text": [
      "first number: 2\n",
      "second number: 3\n"
     ]
    },
    {
     "data": {
      "text/plain": [
       "2.5"
      ]
     },
     "execution_count": 1,
     "metadata": {},
     "output_type": "execute_result"
    }
   ],
   "source": [
    "def avg_two_num():\n",
    "    one = int(input(\"first number: \"))\n",
    "    two = int(input(\"second number: \"))\n",
    "    \n",
    "    return (one + two)/2\n",
    "\n",
    "avg_two_num()"
   ]
  },
  {
   "cell_type": "markdown",
   "id": "6f281ae8",
   "metadata": {},
   "source": [
    "2. Create a function that takes in two numbers and returns the sum from number1 to number2. For example, if it takes in 5 and 8, it would return the sum of 5,6,7,8."
   ]
  },
  {
   "cell_type": "code",
   "execution_count": 2,
   "id": "8bcfa910",
   "metadata": {},
   "outputs": [
    {
     "data": {
      "text/plain": [
       "10"
      ]
     },
     "execution_count": 2,
     "metadata": {},
     "output_type": "execute_result"
    }
   ],
   "source": [
    "def two_range_sum(num1, num2):\n",
    "    sum = 0 \n",
    "    for i in range(num1, num2+1):\n",
    "        sum += i\n",
    "        \n",
    "    return sum \n",
    "\n",
    "\n",
    "two_range_sum(1, 4)"
   ]
  },
  {
   "cell_type": "markdown",
   "id": "bccb3b73",
   "metadata": {},
   "source": [
    "3. Create a function that takes in a item_cost, the percentage_off, and the tax. It should return the total cost of the item."
   ]
  },
  {
   "cell_type": "code",
   "execution_count": 6,
   "id": "5af6ccfd",
   "metadata": {},
   "outputs": [
    {
     "name": "stdout",
     "output_type": "stream",
     "text": [
      "50.0\n",
      "80.0\n"
     ]
    },
    {
     "data": {
      "text/plain": [
       "130.0"
      ]
     },
     "execution_count": 6,
     "metadata": {},
     "output_type": "execute_result"
    }
   ],
   "source": [
    "#does the tax come from orig amount? or after the discount\n",
    "def total_cost(item_cost, percentage_off, tax):\n",
    "    print(item_cost*percentage_off)\n",
    "    print(item_cost*tax)\n",
    "    return (item_cost + (item_cost*tax) - (item_cost*percentage_off))\n",
    "    \n",
    "total_cost(100.00, 0.5, 0.8)"
   ]
  },
  {
   "cell_type": "markdown",
   "id": "56cd062e",
   "metadata": {},
   "source": [
    " Create a function that takes in a number, and outputs all the numbers below it that are prime.\n",
    "    \n",
    "    Create a function that takes in a number, and outputs all the numbers below it that are coprime to it\n",
    "    \n",
    "    Create a function that takes in a number and return how many numbers below it are coprime (use the previous question)\n",
    "    \n",
    "    Create a function that takes in a number and outputs all the numbers below it that are twin primes\n",
    "    \n",
    "    Two people are playing the game rock, paper, scissors.  Create a function that finds the probability of winning for each option using 10,000 trials.  Output said probabilities.\n",
    "    \n",
    "    Create a function that tests the probabilities of the Monty Hall problem."
   ]
  },
  {
   "cell_type": "code",
   "execution_count": null,
   "id": "b2e7228f",
   "metadata": {},
   "outputs": [],
   "source": []
  }
 ],
 "metadata": {
  "kernelspec": {
   "display_name": "Python 3 (ipykernel)",
   "language": "python",
   "name": "python3"
  },
  "language_info": {
   "codemirror_mode": {
    "name": "ipython",
    "version": 3
   },
   "file_extension": ".py",
   "mimetype": "text/x-python",
   "name": "python",
   "nbconvert_exporter": "python",
   "pygments_lexer": "ipython3",
   "version": "3.8.8"
  }
 },
 "nbformat": 4,
 "nbformat_minor": 5
}
