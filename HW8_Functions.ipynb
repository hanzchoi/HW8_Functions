{
 "cells": [
  {
   "cell_type": "markdown",
   "id": "c2f2dc50",
   "metadata": {},
   "source": [
    "1. Create functions to do the following: max, min, average, standard deviation, and geometric average. \n"
   ]
  },
  {
   "cell_type": "code",
   "execution_count": 12,
   "id": "e538e071",
   "metadata": {},
   "outputs": [
    {
     "name": "stdout",
     "output_type": "stream",
     "text": [
      "10\n",
      "0\n",
      "3.5\n",
      "4.898979485566356\n"
     ]
    }
   ],
   "source": [
    "import math as m\n",
    "\n",
    "# Assuming that value passed in is a list and only with numbers\n",
    "def max(nums):\n",
    "    max = nums[0]\n",
    "    for i in range(1,len(nums)):\n",
    "        if nums[i] > max:\n",
    "            max = nums[i]\n",
    "    return max\n",
    "    \n",
    "def min(nums):\n",
    "    min = nums[0]\n",
    "    for i in range(1,len(nums)):\n",
    "        if nums[i] < min:\n",
    "            min = nums[i]\n",
    "    return min\n",
    "\n",
    "def average(nums):\n",
    "    sum = 0\n",
    "    for i in range(len(nums)):\n",
    "        sum += nums[i]\n",
    "    \n",
    "    return sum/len(nums)\n",
    "\n",
    "\n",
    "def standard_deviation(population):\n",
    "    count = len(population)\n",
    "    mean = average(population)\n",
    "    sum = 0\n",
    "    \n",
    "    for i in range(len(population)):\n",
    "        sum += ((population[i] - mean)**2)\n",
    "    \n",
    "    variance = sum/count\n",
    "    \n",
    "    \n",
    "    \n",
    "    return m.sqrt(variance)\n",
    "\n",
    "\n",
    "# def geometric_average():\n",
    "\n",
    "    \n",
    "\n",
    "numbers = [1, 2, 3, 5, 10, 0]\n",
    "\n",
    "population = [10, 12, 23, 23, 16, 23, 21, 16]\n",
    "\n",
    "# Expecting 10\n",
    "print(max(numbers))\n",
    "\n",
    "# Expecting 0\n",
    "print(min(numbers))\n",
    "\n",
    "# Expecting 3.5\n",
    "print(average(numbers))\n",
    "\n",
    "# Exspecting 4.8989794855664\n",
    "print(standard_deviation(population))\n",
    "\n",
    "\n",
    "\n"
   ]
  },
  {
   "cell_type": "markdown",
   "id": "5f7e2de3",
   "metadata": {},
   "source": [
    "2. Create a function that asks the user which shape they would like to analyze. It should then call other functions based on this and return the area of the shape.  The triangle function should take in the base and height, the circle function should take in the radius, and the square function should take in the side length."
   ]
  },
  {
   "cell_type": "code",
   "execution_count": null,
   "id": "cd3b991c",
   "metadata": {},
   "outputs": [],
   "source": []
  },
  {
   "cell_type": "markdown",
   "id": "16a0c29c",
   "metadata": {},
   "source": [
    "3. Create a function that takes in a list and returns the list doubled. It should ask the user for option one or two. If the user chooses option one it should return the list doubled such as [1 2 3] becoming [1 2 3 1 2 3], if the user chooses option two then is should return the list such as [1 2 3] becoming [2 4 6].\n",
    "    "
   ]
  },
  {
   "cell_type": "code",
   "execution_count": null,
   "id": "e9394dbc",
   "metadata": {},
   "outputs": [],
   "source": []
  },
  {
   "cell_type": "markdown",
   "id": "45aa2d6e",
   "metadata": {},
   "source": [
    "4. Create a function that takes in two lists and concatenates the numbers in those lists. For instance, if we have [1 2 3] and [7 8 9], we should return [17 28 39].\n"
   ]
  },
  {
   "cell_type": "code",
   "execution_count": null,
   "id": "7cf635f1",
   "metadata": {},
   "outputs": [],
   "source": []
  },
  {
   "cell_type": "markdown",
   "id": "962905a0",
   "metadata": {},
   "source": [
    "5. Create a function that returns a list of primes up until the number passed in. So if 100 is passed in, it should return all the primes up until 100.\n"
   ]
  },
  {
   "cell_type": "code",
   "execution_count": null,
   "id": "ce1ce30c",
   "metadata": {},
   "outputs": [],
   "source": []
  },
  {
   "cell_type": "markdown",
   "id": "d4f351c6",
   "metadata": {},
   "source": [
    "6. Write a function calculation() such that it can accept two variables and calculate the multiplication and divison of it. And also it must return both results in a single return call\n"
   ]
  },
  {
   "cell_type": "code",
   "execution_count": null,
   "id": "8309173f",
   "metadata": {},
   "outputs": [],
   "source": []
  },
  {
   "cell_type": "markdown",
   "id": "c5eb2b23",
   "metadata": {},
   "source": [
    "7. If we list all the natural numbers below 10 that are multiples of 3 or 5, we get 3, 5, 6 and 9. The sum of these multiples is 23.Find the sum of all the multiples of 3 or 5 below 1000.\n",
    "    "
   ]
  },
  {
   "cell_type": "code",
   "execution_count": null,
   "id": "9314d22f",
   "metadata": {},
   "outputs": [],
   "source": []
  },
  {
   "cell_type": "markdown",
   "id": "d6002eb6",
   "metadata": {},
   "source": [
    "8. Find the sum of the even valued Fibonacci numbers below 500.\n"
   ]
  },
  {
   "cell_type": "code",
   "execution_count": null,
   "id": "69b97470",
   "metadata": {},
   "outputs": [],
   "source": [
    "def even_sum_fibonacci numbers()"
   ]
  },
  {
   "cell_type": "markdown",
   "id": "9c921428",
   "metadata": {},
   "source": [
    "9. Extra Credit: https://projecteuler.net/problem=30 \n",
    "\n",
    "Surprisingly there are only three numbers that can be written as the sum of fourth powers of their digits:\n",
    "\n",
    "1634 = 14 + 64 + 34 + 44\n",
    "8208 = 84 + 24 + 04 + 84\n",
    "9474 = 94 + 44 + 74 + 44\n",
    "As 1 = 14 is not a sum it is not included.\n",
    "\n",
    "The sum of these numbers is 1634 + 8208 + 9474 = 19316.\n",
    "\n",
    "Find the sum of all the numbers that can be written as the sum of fifth powers of their digits."
   ]
  },
  {
   "cell_type": "code",
   "execution_count": null,
   "id": "1cae2b6d",
   "metadata": {},
   "outputs": [],
   "source": [
    "10 .Extra Credit: choose another project euler problem of your liking and solve it"
   ]
  }
 ],
 "metadata": {
  "kernelspec": {
   "display_name": "Python 3 (ipykernel)",
   "language": "python",
   "name": "python3"
  },
  "language_info": {
   "codemirror_mode": {
    "name": "ipython",
    "version": 3
   },
   "file_extension": ".py",
   "mimetype": "text/x-python",
   "name": "python",
   "nbconvert_exporter": "python",
   "pygments_lexer": "ipython3",
   "version": "3.8.8"
  }
 },
 "nbformat": 4,
 "nbformat_minor": 5
}
